{
 "cells": [
  {
   "cell_type": "markdown",
   "id": "89a8bed2",
   "metadata": {},
   "source": [
    "\n",
    "# Programmierung eines Hangman-Spiels in Python\n",
    "\n",
    "Willkommen zu diesem interaktiven Jupyter Notebook, das euch Schritt für Schritt durch die Programmierung eines Hangman-Spiels führt. \n",
    "Dieses Spiel ist eine tolle Möglichkeit, um Grundlagen der Programmierung, wie Schleifen, Bedingungen und das Arbeiten mit Strings, zu erlernen.\n",
    "\n",
    "## Was ist Hangman?\n",
    "Hangman ist ein Worträtselspiel, bei dem ein Spieler versucht, ein unbekanntes Wort zu erraten, indem er Buchstaben vorschlägt. Bei jedem falschen Versuch wird ein Teil des 'Galgenmännchens' gezeichnet. Das Spiel endet, wenn das Wort erraten wird oder das vollständige 'Galgenmännchen' gezeichnet ist.\n",
    "\n",
    "In diesem Notebook werden wir das Spiel in Python programmieren. Wir werden dabei Schritt für Schritt vorgehen:\n",
    "1. Auswahl eines zufälligen Wortes\n",
    "2. Anzeigen des Worträtsels\n",
    "3. Entgegennahme und Überprüfung der Buchstabenvorschläge\n",
    "4. Aktualisierung des Worträtsels und des Hangman-Zustandes\n",
    "5. Feststellen, ob das Spiel gewonnen oder verloren ist\n"
   ]
  },
  {
   "cell_type": "markdown",
   "id": "44f9b258",
   "metadata": {},
   "source": [
    "\n",
    "## Schritt 1: Auswahl eines zufälligen Wortes\n",
    "\n",
    "Zuerst benötigen wir eine Liste von Wörtern, aus der wir zufällig ein Wort für unser Spiel auswählen können. Wir werden die `random`-Bibliothek verwenden, um ein zufälliges Wort aus einer Liste auszuwählen.\n",
    "\n",
    "**Beispiel:**\n",
    "```python\n",
    "import random\n",
    "\n",
    "wortliste = [\"Apfel\", \"Banane\", \"Kirsche\"]\n",
    "gewaehltes_wort = random.choice(wortliste)\n",
    "```\n",
    "\n",
    "**Übung 1:** Erstellt eine Liste mit mindestens fünf verschiedenen Wörtern und wählt daraus zufällig ein Wort aus.\n"
   ]
  },
  {
   "cell_type": "code",
   "execution_count": null,
   "id": "199bd6de",
   "metadata": {},
   "outputs": [],
   "source": [
    "# Übung 1\n",
    "# Ihr Code hier"
   ]
  },
  {
   "cell_type": "markdown",
   "id": "8c0ebd98",
   "metadata": {},
   "source": [
    "\n",
    "## Schritt 2: Anzeigen des Worträtsels\n",
    "\n",
    "Nachdem wir ein Wort ausgewählt haben, müssen wir den Spielern anzeigen, wie viele Buchstaben das Wort hat, ohne ihnen die Buchstaben selbst zu zeigen. Dies tun wir, indem wir jeden Buchstaben durch einen Unterstrich (_) ersetzen.\n",
    "\n",
    "**Beispiel:**\n",
    "```python\n",
    "wort = 'Apfel'\n",
    "wort_raetsel = '_' * len(wort)\n",
    "print(wort_raetsel)\n",
    "```\n",
    "\n",
    "**Übung 2:** Erstellt eine Variable `wort_raetsel`, die so viele Unterstriche enthält, wie das gewählte Wort Buchstaben hat, und gebt sie aus.\n"
   ]
  },
  {
   "cell_type": "code",
   "execution_count": null,
   "id": "0bdf7fd8",
   "metadata": {},
   "outputs": [],
   "source": [
    "# Übung 2\n",
    "# Ihr Code hier"
   ]
  },
  {
   "cell_type": "markdown",
   "id": "8bc38dee",
   "metadata": {},
   "source": [
    "\n",
    "## Schritt 3: Entgegennahme und Überprüfung der Buchstabenvorschläge\n",
    "\n",
    "Jetzt müssen wir den Spielern erlauben, Buchstaben zu raten. Wir überprüfen, ob der geratene Buchstabe im Wort enthalten ist. Wenn ja, aktualisieren wir das Worträtsel, um diesen Buchstaben an der richtigen Stelle anzuzeigen.\n",
    "\n",
    "**Beispiel:**\n",
    "```python\n",
    "geratener_buchstabe = input(\"Rate einen Buchstaben: \")\n",
    "if geratener_buchstabe in gewaehltes_wort:\n",
    "    # Aktualisieren Sie hier das Worträtsel\n",
    "    print(\"Richtig geraten!\")\n",
    "else:\n",
    "    print(\"Falsch geraten.\")\n",
    "```\n",
    "\n",
    "**Übung 3:** Schreibt Code, der einen Buchstaben vom Benutzer annimmt und überprüft, ob dieser Buchstabe im gewählten Wort vorkommt. \n"
   ]
  },
  {
   "cell_type": "code",
   "execution_count": null,
   "id": "f78064cc",
   "metadata": {},
   "outputs": [],
   "source": [
    "# Übung 3\n",
    "# Ihr Code hier"
   ]
  }
 ],
 "metadata": {},
 "nbformat": 4,
 "nbformat_minor": 5
}
