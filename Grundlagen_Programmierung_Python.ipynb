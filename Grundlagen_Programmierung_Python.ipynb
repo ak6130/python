{
 "cells": [
  {
   "cell_type": "markdown",
   "id": "4816f115",
   "metadata": {},
   "source": [
    "\n",
    "# Grundlagen der Programmierung mit Python\n",
    "\n",
    "Willkommen zu diesem Jupyter Notebook, das als Einführung in die Grundlagen der Programmierung mit Python dient. \n",
    "In diesem Notebook werden wir verschiedene grundlegende Konzepte durchgehen, darunter:\n",
    "- Variablen und Datentypen\n",
    "- Kontrollstrukturen (if-else-Anweisungen, Schleifen)\n",
    "- Funktionen\n",
    "- Einfache Datenstrukturen (Listen und Wörterbücher)\n",
    "\n",
    "Jeder Abschnitt enthält eine kurze Erklärung des Themas und einige Übungen, um Ihr Verständnis zu vertiefen.\n"
   ]
  },
  {
   "cell_type": "markdown",
   "id": "832d7340",
   "metadata": {},
   "source": [
    "\n",
    "## Abschnitt 1: Variablen und Datentypen\n",
    "\n",
    "In Python werden Daten durch Variablen repräsentiert, die verschiedene Datentypen haben können, wie Strings, Integer, Floats usw.\n",
    "\n",
    "**Beispiel:**\n",
    "```python\n",
    "# Dies ist ein Kommentar\n",
    "mein_string = \"Hallo Welt\"\n",
    "mein_integer = 5\n",
    "mein_float = 3.14\n",
    "```\n",
    "\n",
    "**Übung 1.1:** Erstellen Sie drei Variablen: eine Zeichenkette (String), eine ganze Zahl (Integer) und eine Fließkommazahl (Float), und geben Sie ihre Werte aus.\n"
   ]
  },
  {
   "cell_type": "code",
   "execution_count": null,
   "id": "cab94ae2",
   "metadata": {},
   "outputs": [],
   "source": [
    "# Übung 1.1\n",
    "# Ihr Code hier"
   ]
  },
  {
   "cell_type": "markdown",
   "id": "d03d69cc",
   "metadata": {},
   "source": [
    "\n",
    "## Abschnitt 2: Kontrollstrukturen\n",
    "\n",
    "Kontrollstrukturen wie if-else-Anweisungen und Schleifen ermöglichen es, den Fluss eines Programms zu steuern.\n",
    "\n",
    "**Beispiel:**\n",
    "```python\n",
    "# if-else-Anweisung\n",
    "zahl = 10\n",
    "if zahl > 5:\n",
    "    print(\"Die Zahl ist größer als 5\")\n",
    "else:\n",
    "    print(\"Die Zahl ist kleiner oder gleich 5\")\n",
    "\n",
    "# for-Schleife\n",
    "for i in range(5):\n",
    "    print(i)\n",
    "```\n",
    "\n",
    "**Übung 2.1:** Schreiben Sie eine if-else-Anweisung, die überprüft, ob eine Zahl gerade oder ungerade ist.\n",
    "**Übung 2.2:** Schreiben Sie eine for-Schleife, die die Zahlen von 1 bis 10 ausgibt.\n"
   ]
  },
  {
   "cell_type": "code",
   "execution_count": null,
   "id": "d13ed786",
   "metadata": {},
   "outputs": [],
   "source": [
    "# Übung 2.1\n",
    "# Ihr Code hier"
   ]
  },
  {
   "cell_type": "code",
   "execution_count": null,
   "id": "8caec4e7",
   "metadata": {},
   "outputs": [],
   "source": [
    "# Übung 2.2\n",
    "# Ihr Code hier"
   ]
  }
 ],
 "metadata": {},
 "nbformat": 4,
 "nbformat_minor": 5
}
