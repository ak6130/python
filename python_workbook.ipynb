{
 "cells": [
  {
   "cell_type": "markdown",
   "metadata": {},
   "source": [
    "# Zur Wiederholung\n",
    "\n",
    "Wir haben uns in den letzten Stunden mit der Grundfunktionalität von python beschäftigt. Heute wollen wir die gesamten Funktionen noch einmal wiederholen.\n",
    "\n",
    "In der ersten Übung sollst du einen Text auf der Konsole ausgeben. Nutze dafür die print Funktion. \n",
    "\n",
    "```\n",
    "print(\"Irgendein Text\");\n",
    "\n",
    "```\n"
   ]
  },
  {
   "cell_type": "code",
   "execution_count": 2,
   "metadata": {},
   "outputs": [
    {
     "name": "stdout",
     "output_type": "stream",
     "text": [
      "Hallo\n"
     ]
    }
   ],
   "source": [
    "#Schreibe hier deinen Code"
   ]
  },
  {
   "cell_type": "markdown",
   "metadata": {},
   "source": [
    "# Variablen\n",
    "\n",
    "Wir haben uns auch mit Variablen beschäftigt. Variablen kannst du dir als leere Schachteln vorstellen, in die du verschiedene Werte legen kannst. Du musst aber beachten, dass in der Schachtel immer nur ein Wert stehen kann. In Python werden Variablen einfach durch einen kleingeschriebenen Namen und einem = erstellt. Dann musst du der Variablen noch einen Wert zuweisen. \n",
    "\n",
    "Sieh dir folgendes Beispiel an:\n",
    "\n",
    "```\n",
    "wort = \"Hallo Welt\"\n",
    "```\n",
    "\n",
    "## Variable definieren\n",
    "\n",
    "Versuche nun eine Variable zu definieren und übergib einen selbstgewählten Wert. Gib die Variable dann mit folgendem Befehl aus: \n",
    "```\n",
    "print(variablenname)\n",
    "```"
   ]
  },
  {
   "cell_type": "code",
   "execution_count": null,
   "metadata": {},
   "outputs": [],
   "source": [
    "#Schreibe hier deinen Code"
   ]
  },
  {
   "cell_type": "markdown",
   "metadata": {},
   "source": [
    "# IF und IF - ELSE Bedingungen\n",
    "\n",
    "In python kannst du auch Bedingungen angeben. Diese werden mit den englischen Wörtern if (wenn) und if/else (wenn/dann) gebildet. Unter der IF und (falls vorhanden) der ELSE Bedingung kannst du dann den Code ausgeben, der ausgeführt werden soll. \n",
    "\n",
    "Beispiel: \n",
    "```\n",
    "wert = 3\n",
    "if wert < 5:\n",
    "    print('Wert ist kleiner als 5')\n",
    "```\n",
    "Wie du an dem Beispiel oben siehst, musst du mit der Tabulator-Taste nach innen rücken, damit python erkennt, dass dieser Code nur ausgeführt wird, wenn die IF-Bedingung wahr ist. Bei IF/ELSE funktioniert dies genau gleich: \n",
    "```\n",
    "wert = 9\n",
    "if wert < 5:\n",
    "    print('Wert ist kleiner als 5')\n",
    "else:\n",
    "    print('Wert ist größer als 4')\n",
    "```\n",
    "\n",
    "Versuche es nun selbst. \n",
    "* Starte mit einer neuen Variable und weise ihr den Wert 7 zu. Erstelle dann eine IF Bedingung, die prüft ob deine Variable größer oder kleiner als 9 ist. \n",
    "* Ändere die Prüfung nun darauf ob die Zahl größer als 7 ist. Was fällt dir auf (Schreibe deine Antwort als Kommentar ans Ende des Codes - zur Erinnerung ein Kommentar beginnt mit einer #!)?  "
   ]
  },
  {
   "cell_type": "code",
   "execution_count": null,
   "metadata": {},
   "outputs": [],
   "source": [
    "#Schreibe hier deinen Code"
   ]
  },
  {
   "cell_type": "markdown",
   "metadata": {},
   "source": [
    "# Operatoren\n",
    "\n",
    "In Python gibt es verschiedene Operatoren mit denen du rechnen oder deine IF-Bedingungen testen kannst. Diese sind: \n",
    "* a < b         kleiner \n",
    "* a > b         größer\n",
    "* a == b        identisch\n",
    "* a != b        nicht gleich\n",
    "* a <= b        kleiner gleich\n",
    "* a >= b        größer gleich\n",
    "\n",
    "Um in Python zu rechnen kannst du folgende Zeichen nutzen: \n",
    "\n",
    "* a + b           Addition\n",
    "* a - b           Subtraktion\n",
    "* a * b           Multiplikation\n",
    "* a / b           Division\n",
    "\n",
    "# Funktionen\n",
    "\n",
    "Um deinen Code nicht dauernd wiederholen zu müssen, kannst du Funktionen definieren. Diese Funktionen haben einen Namen und können dann mit diesem Namen aufgerufen werden. Diesen Funktionen kannst du auch Werte übergeben und so ein kleines funktionierendes Programm schreiben. \n",
    "\n",
    "Beispiel:\n",
    "```\n",
    "def plus(zahl1, zahl2):\n",
    "    summe = zahl1 + zahl2\n",
    "    print(\"Das Ergebnis ist:\")\n",
    "    print(summe)\n",
    "# Aufruf der Funktion mit den Zahlen 9 und 5\n",
    "\n",
    "plus(9,5)\n",
    "#Das Ergebnis soll nun 14 sein\n",
    "```\n",
    "\n",
    "Versuche nun selbst eine Funktion zu schreiben, die zwei Zahlen miteinander multipliziert:"
   ]
  },
  {
   "cell_type": "code",
   "execution_count": null,
   "metadata": {},
   "outputs": [],
   "source": [
    "#Schreibe hier eine Funktion, die zwei Zahlen multipliziert!"
   ]
  },
  {
   "cell_type": "markdown",
   "metadata": {},
   "source": [
    "### Profi-Aufgabe: \n",
    "Erstelle ein Programm, bei welchem am Anfang zwei Variablen positive Werte zugewiesen werden. Anschließend soll über eine Wenn-Dann-Bedingung das Größere der beiden ausgegeben werden.\n",
    "\n",
    "Einen Userinput kannst du wie unten beschrieben erzeugen:\n",
    "```\n",
    "a = input(\"Gib eine natürliche Zahl ein: \");\n",
    "b = input(\"Gib noch eine natürliche Zahl ein: \");\n",
    "#Hier sollst du feststellen welche Zahl die größere ist!\n",
    "```"
   ]
  },
  {
   "cell_type": "code",
   "execution_count": null,
   "metadata": {},
   "outputs": [],
   "source": [
    "#Schreibe hier deinen Code"
   ]
  }
 ],
 "metadata": {
  "kernelspec": {
   "display_name": "Python 3",
   "language": "python",
   "name": "python3"
  },
  "language_info": {
   "codemirror_mode": {
    "name": "ipython",
    "version": 3
   },
   "file_extension": ".py",
   "mimetype": "text/x-python",
   "name": "python",
   "nbconvert_exporter": "python",
   "pygments_lexer": "ipython3",
   "version": "3.11.6"
  }
 },
 "nbformat": 4,
 "nbformat_minor": 2
}
